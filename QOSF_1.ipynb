{
 "cells": [
  {
   "cell_type": "markdown",
   "metadata": {},
   "source": [
    "# QOSF_1 - Quantum Circuit Proposals for Binary Classification (Iris)\n",
    "\n",
    "This notebook implements two distinct variational quantum circuit (VQC) architectures for binary classification using the Iris dataset (setosa vs versicolor). It includes classical preprocessing, training, expressibility analysis (via random-state fidelities), and performance comparison against a classical baseline."
   ]
  },
  {
   "cell_type": "code",
   "execution_count": 1,
   "metadata": {},
   "outputs": [],
   "source": [
    "import numpy as np\n",
    "import matplotlib.pyplot as plt\n",
    "import pandas as pd\n",
    "from sklearn.datasets import load_iris\n",
    "from sklearn.model_selection import train_test_split\n",
    "from sklearn.preprocessing import StandardScaler\n",
    "from sklearn.linear_model import LogisticRegression\n",
    "from sklearn.metrics import accuracy_score, classification_report\n",
    "\n",
    "import pennylane as qml\n",
    "from pennylane import numpy as pnp\n",
    "\n",
    "np.random.seed(42)\n",
    "pnp.random.seed(42)\n"
   ]
  },
  {
   "cell_type": "markdown",
   "id": "98c9bf5c",
   "metadata": {},
   "source": [
    "# Kept setosa and versicolor data "
   ]
  },
  {
   "cell_type": "code",
   "execution_count": 2,
   "metadata": {},
   "outputs": [
    {
     "name": "stdout",
     "output_type": "stream",
     "text": [
      "Train: (80, 4), Test: (20, 4)\n",
      "Labels: [0 1]\n"
     ]
    }
   ],
   "source": [
    "# 1) Load & preprocess data (binary: setosa vs versicolor)\n",
    "iris = load_iris()\n",
    "X_full = iris.data\n",
    "y_full = iris.target\n",
    "mask = y_full != 2  # remove class 2 (virginica)\n",
    "X = X_full[mask]\n",
    "y = y_full[mask]\n",
    "\n",
    "# Standardize features\n",
    "scaler = StandardScaler()\n",
    "X_scaled = scaler.fit_transform(X)\n",
    "\n",
    "# Train-test split\n",
    "X_train, X_test, y_train, y_test = train_test_split(\n",
    "    X_scaled, y, test_size=0.2, random_state=42, stratify=y\n",
    ")\n",
    "\n",
    "print(f\"Train: {X_train.shape}, Test: {X_test.shape}\")\n",
    "print(f\"Labels: {np.unique(y)}\")\n"
   ]
  },
  {
   "cell_type": "markdown",
   "id": "e0b4eb56",
   "metadata": {},
   "source": [
    "# Classical training"
   ]
  },
  {
   "cell_type": "code",
   "execution_count": 3,
   "metadata": {},
   "outputs": [
    {
     "name": "stdout",
     "output_type": "stream",
     "text": [
      "Classical Logistic Regression accuracy: 1.000\n",
      "              precision    recall  f1-score   support\n",
      "\n",
      "      setosa       1.00      1.00      1.00        10\n",
      "  versicolor       1.00      1.00      1.00        10\n",
      "\n",
      "    accuracy                           1.00        20\n",
      "   macro avg       1.00      1.00      1.00        20\n",
      "weighted avg       1.00      1.00      1.00        20\n",
      "\n"
     ]
    }
   ],
   "source": [
    "# Classical baseline: logistic regression on the same features\n",
    "clf = LogisticRegression().fit(X_train, y_train)\n",
    "y_pred_clf = clf.predict(X_test)\n",
    "acc_clf = accuracy_score(y_test, y_pred_clf)\n",
    "print(f\"Classical Logistic Regression accuracy: {acc_clf:.3f}\")\n",
    "print(classification_report(y_test, y_pred_clf, target_names=iris.target_names[:2]))\n"
   ]
  },
  {
   "cell_type": "markdown",
   "metadata": {},
   "source": [
    "## Quantum model setup\n",
    "\n",
    "We use n_qubits = number of features (4). Two distinct ansätze:\n",
    "- Circuit A: AngleEmbedding + StronglyEntanglingLayers (deep entangling blocks)\n",
    "- Circuit B: AngleEmbedding + Data re-uploading with BasicEntanglerLayers (embedding between layers)\n",
    "\n",
    "Measurement: expectation of PauliZ on wire 0 mapped to probability p = (1 + <Z>)/2. Use binary cross-entropy loss."
   ]
  },
  {
   "cell_type": "code",
   "execution_count": 4,
   "metadata": {},
   "outputs": [],
   "source": [
    "n_qubits = X_train.shape[1]\n",
    "n_layers_A = 3\n",
    "n_layers_B = 4  # with re-uploading\n",
    "\n",
    "dev_A = qml.device(\"default.qubit\", wires=n_qubits)\n",
    "dev_B = qml.device(\"default.qubit\", wires=n_qubits)\n",
    "\n",
    "def prob_from_expval(expval):\n",
    "    \"\"\"Map expectation value in [-1,1] to [0,1] probability.\"\"\"\n",
    "    # use pnp to keep ArrayBox compatibility\n",
    "    return (1 + expval) / 2\n",
    "\n",
    "def binary_cross_entropy(p, y):\n",
    "    # Use pennylane.numpy (pnp) to support ArrayBox/autograd types\n",
    "    p = pnp.clip(p, 1e-8, 1 - 1e-8)\n",
    "    y_arr = pnp.array(y)\n",
    "    return -(y_arr * pnp.log(p) + (1 - y_arr) * pnp.log(1 - p))\n"
   ]
  },
  {
   "cell_type": "code",
   "execution_count": 5,
   "metadata": {},
   "outputs": [
    {
     "name": "stdout",
     "output_type": "stream",
     "text": [
      "weight shape A: (3, 4, 3)\n"
     ]
    }
   ],
   "source": [
    "# Circuit A: AngleEmbedding + StronglyEntanglingLayers\n",
    "def circuit_A(weights, x=None):\n",
    "    # x: classical features\n",
    "    qml.templates.AngleEmbedding(x, wires=range(n_qubits), rotation='Y')\n",
    "    qml.templates.StronglyEntanglingLayers(weights, wires=range(n_qubits))\n",
    "    return qml.expval(qml.PauliZ(0))\n",
    "\n",
    "weight_shape_A = qml.templates.StronglyEntanglingLayers.shape(n_layers_A, n_qubits)\n",
    "print(\"weight shape A:\", weight_shape_A)\n",
    "\n",
    "# ensure QNodes use autograd interface for PennyLane/pnp compatibility\n",
    "qnode_A = qml.QNode(circuit_A, dev_A, interface='autograd')\n"
   ]
  },
  {
   "cell_type": "code",
   "execution_count": 6,
   "metadata": {},
   "outputs": [
    {
     "name": "stdout",
     "output_type": "stream",
     "text": [
      "weight shape B: (4, 4)\n"
     ]
    }
   ],
   "source": [
    "# Circuit B: AngleEmbedding + Data re-uploading + BasicEntanglerLayers\n",
    "def circuit_B(weights, x=None):\n",
    "    # Data re-uploading: embed x multiple times interleaved with entangler layers\n",
    "    n_blocks = weights.shape[0]\n",
    "    for i in range(n_blocks):\n",
    "        qml.templates.AngleEmbedding(x, wires=range(n_qubits), rotation='X')\n",
    "        qml.templates.BasicEntanglerLayers(weights[i:i+1].reshape(-1, n_qubits), wires=range(n_qubits))\n",
    "    return qml.expval(qml.PauliZ(0))\n",
    "\n",
    "weight_shape_B = (n_layers_B, n_qubits)\n",
    "print(\"weight shape B:\", weight_shape_B)\n",
    "qnode_B = qml.QNode(circuit_B, dev_B, interface='autograd')\n"
   ]
  },
  {
   "cell_type": "code",
   "execution_count": 7,
   "metadata": {},
   "outputs": [],
   "source": [
    "# Helper: predict probability for single sample\n",
    "def predict_prob(qnode, weights, x):\n",
    "    # make sure x is a pnp array so outputs are consistent ArrayBox/pnp types\n",
    "    x = pnp.array(x)\n",
    "    exp = qnode(weights, x=x)\n",
    "    return pnp.squeeze(prob_from_expval(exp))\n"
   ]
  },
  {
   "cell_type": "code",
   "execution_count": 8,
   "metadata": {},
   "outputs": [],
   "source": [
    "# Expressibility analysis: sample random parameters, get statevectors, compute pairwise fidelities\n",
    "def get_statevector(qnode, weights, x):\n",
    "    # Use a QNode that returns state\n",
    "    dev = qnode.device\n",
    "    @qml.qnode(dev, interface='autograd')\n",
    "    def _state(weights, x=None):\n",
    "        # replicate the circuit but return state\n",
    "        # here we call the same circuit function used by qnode but request state\n",
    "        if qnode.func is circuit_A:\n",
    "            qml.templates.AngleEmbedding(x, wires=range(n_qubits), rotation='Y')\n",
    "            qml.templates.StronglyEntanglingLayers(weights, wires=range(n_qubits))\n",
    "        else:\n",
    "            n_blocks = weights.shape[0]\n",
    "            for i in range(n_blocks):\n",
    "                qml.templates.AngleEmbedding(x, wires=range(n_qubits), rotation='X')\n",
    "                qml.templates.BasicEntanglerLayers(weights[i:i+1].reshape(-1, n_qubits), wires=range(n_qubits))\n",
    "        return qml.state()\n",
    "    return _state(weights, x=x)\n",
    "\n",
    "def compute_fidelity_stats(qnode, sample_weights_generator, x_fixed, n_samples=50):\n",
    "    states = []\n",
    "    for _ in range(n_samples):\n",
    "        w = sample_weights_generator()\n",
    "        st = get_statevector(qnode, w, x_fixed)\n",
    "        states.append(st)\n",
    "    states = np.array(states)\n",
    "    # pairwise fidelities\n",
    "    n = len(states)\n",
    "    fid_vals = []\n",
    "    for i in range(n):\n",
    "        for j in range(i+1, n):\n",
    "            fid = np.abs(np.vdot(states[i], states[j]))**2\n",
    "            fid_vals.append(fid)\n",
    "    fid_vals = np.array(fid_vals)\n",
    "    return fid_vals\n"
   ]
  },
  {
   "cell_type": "code",
   "execution_count": 9,
   "metadata": {},
   "outputs": [
    {
     "name": "stdout",
     "output_type": "stream",
     "text": [
      "Circuit A fidelities: mean=0.0636, std=0.0589\n",
      "Circuit B fidelities: mean=0.0628, std=0.0604\n"
     ]
    },
    {
     "data": {
      "image/png": "[encoded data removed]",
      "text/plain": [
       "<Figure size 800x300 with 1 Axes>"
      ]
     },
     "metadata": {},
     "output_type": "display_data"
    }
   ],
   "source": [
    "# Generate random weight samplers for A and B\n",
    "def sampler_A():\n",
    "    return pnp.random.uniform(0, 2 * np.pi, size=weight_shape_A)\n",
    "\n",
    "def sampler_B():\n",
    "    return pnp.random.uniform(0, 2 * np.pi, size=weight_shape_B)\n",
    "\n",
    "# fixed (zero) input for expressibility test\n",
    "x_fixed = np.zeros(n_qubits)\n",
    "\n",
    "fid_A = compute_fidelity_stats(qnode_A, sampler_A, x_fixed, n_samples=40)\n",
    "fid_B = compute_fidelity_stats(qnode_B, sampler_B, x_fixed, n_samples=40)\n",
    "\n",
    "print(f\"Circuit A fidelities: mean={fid_A.mean():.4f}, std={fid_A.std():.4f}\")\n",
    "print(f\"Circuit B fidelities: mean={fid_B.mean():.4f}, std={fid_B.std():.4f}\")\n",
    "\n",
    "plt.figure(figsize=(8,3))\n",
    "plt.hist(fid_A, bins=25, alpha=0.6, label='Circuit A')\n",
    "plt.hist(fid_B, bins=25, alpha=0.6, label='Circuit B')\n",
    "plt.xlabel('Pairwise fidelity')\n",
    "plt.ylabel('Count')\n",
    "plt.legend()\n",
    "plt.title('Expressibility proxy: fidelity distributions')\n",
    "plt.show()\n"
   ]
  },
  {
   "cell_type": "code",
   "execution_count": 10,
   "metadata": {},
   "outputs": [],
   "source": [
    "# Training utilities for VQC\n",
    "def train_vqc(qnode, init_weights, X_train, y_train, X_val, y_val, epochs=30, lr=0.1):\n",
    "    weights = pnp.array(init_weights, requires_grad=True)\n",
    "    opt = qml.AdamOptimizer(stepsize=lr)\n",
    "    history = {'train_loss': [], 'val_loss': [], 'val_acc': []}\n",
    "\n",
    "    X_train_p = [pnp.array(x) for x in X_train]\n",
    "    X_val_p = [pnp.array(x) for x in X_val]\n",
    "    y_train_p = pnp.array(y_train)\n",
    "    y_val_p = pnp.array(y_val)\n",
    "\n",
    "    for e in range(epochs):\n",
    "        # one epoch: simple full-batch gradient step\n",
    "        def cost(w):\n",
    "            preds = pnp.stack([predict_prob(qnode, w, x) for x in X_train_p])\n",
    "            loss = pnp.mean(binary_cross_entropy(preds, y_train_p))\n",
    "            return loss\n",
    "\n",
    "        weights = opt.step(cost, weights)\n",
    "\n",
    "        # validation (outside gradient calculation) - convert to numpy for sklearn metrics\n",
    "        val_preds_p = pnp.stack([predict_prob(qnode, weights, x) for x in X_val_p])\n",
    "        # val loss as pnp scalar\n",
    "        val_loss_p = pnp.mean(binary_cross_entropy(val_preds_p, y_val_p))\n",
    "        # convert predictions to numpy floats for accuracy_score\n",
    "        val_preds_np = np.array([float(v) for v in val_preds_p])\n",
    "        val_acc = accuracy_score(y_val, (val_preds_np > 0.5).astype(int))\n",
    "\n",
    "        history['val_loss'].append(float(np.array(val_loss_p)))\n",
    "        history['val_acc'].append(float(val_acc))\n",
    "\n",
    "    return weights, history\n"
   ]
  },
  {
   "cell_type": "code",
   "execution_count": 11,
   "metadata": {},
   "outputs": [
    {
     "name": "stdout",
     "output_type": "stream",
     "text": [
      "Training Circuit A...\n",
      "Training Circuit B...\n",
      "Training Circuit B...\n"
     ]
    }
   ],
   "source": [
    "# Initialize and train both circuits\n",
    "init_w_A = pnp.random.uniform(0, 2 * np.pi, size=weight_shape_A)\n",
    "init_w_B = pnp.random.uniform(0, 2 * np.pi, size=weight_shape_B)\n",
    "\n",
    "print('Training Circuit A...')\n",
    "wA_trained, histA = train_vqc(qnode_A, init_w_A, X_train, y_train, X_test, y_test, epochs=40, lr=0.1)\n",
    "print('Training Circuit B...')\n",
    "wB_trained, histB = train_vqc(qnode_B, init_w_B, X_train, y_train, X_test, y_test, epochs=40, lr=0.08)\n"
   ]
  },
  {
   "cell_type": "code",
   "execution_count": 12,
   "metadata": {},
   "outputs": [
    {
     "name": "stdout",
     "output_type": "stream",
     "text": [
      "Circuit A accuracy: 1.000\n",
      "              precision    recall  f1-score   support\n",
      "\n",
      "      setosa       1.00      1.00      1.00        10\n",
      "  versicolor       1.00      1.00      1.00        10\n",
      "\n",
      "    accuracy                           1.00        20\n",
      "   macro avg       1.00      1.00      1.00        20\n",
      "weighted avg       1.00      1.00      1.00        20\n",
      "\n",
      "Circuit B accuracy: 0.850\n",
      "              precision    recall  f1-score   support\n",
      "\n",
      "      setosa       0.82      0.90      0.86        10\n",
      "  versicolor       0.89      0.80      0.84        10\n",
      "\n",
      "    accuracy                           0.85        20\n",
      "   macro avg       0.85      0.85      0.85        20\n",
      "weighted avg       0.85      0.85      0.85        20\n",
      "\n",
      "Classical baseline accuracy: 1.000\n"
     ]
    }
   ],
   "source": [
    "# Evaluate final performance on test set\n",
    "probs_A = np.array([predict_prob(qnode_A, wA_trained, x) for x in X_test])\n",
    "preds_A = (probs_A > 0.5).astype(int)\n",
    "acc_A = accuracy_score(y_test, preds_A)\n",
    "\n",
    "probs_B = np.array([predict_prob(qnode_B, wB_trained, x) for x in X_test])\n",
    "preds_B = (probs_B > 0.5).astype(int)\n",
    "acc_B = accuracy_score(y_test, preds_B)\n",
    "\n",
    "print(f\"Circuit A accuracy: {acc_A:.3f}\")\n",
    "print(classification_report(y_test, preds_A, target_names=iris.target_names[:2]))\n",
    "print(f\"Circuit B accuracy: {acc_B:.3f}\")\n",
    "print(classification_report(y_test, preds_B, target_names=iris.target_names[:2]))\n",
    "\n",
    "print(f\"Classical baseline accuracy: {acc_clf:.3f}\")\n"
   ]
  },
  {
   "cell_type": "code",
   "execution_count": 13,
   "metadata": {},
   "outputs": [
    {
     "data": {
      "image/png": "[encoded data removed]",
      "text/plain": [
       "<Figure size 600x300 with 1 Axes>"
      ]
     },
     "metadata": {},
     "output_type": "display_data"
    }
   ],
   "source": [
    "# Simple comparison plot of validation accuracy during training (if available)\n",
    "plt.figure(figsize=(6,3))\n",
    "plt.plot(histA['val_acc'], label='Circuit A val acc')\n",
    "plt.plot(histB['val_acc'], label='Circuit B val acc')\n",
    "plt.hlines(acc_clf, 0, len(histA['val_acc'])-1, colors='k', linestyles='dashed', label='Classical')\n",
    "plt.xlabel('Epochs')\n",
    "plt.ylabel('Validation accuracy')\n",
    "plt.legend()\n",
    "plt.title('Validation accuracy during training')\n",
    "plt.show()\n"
   ]
  }
 ],
 "metadata": {
  "kernelspec": {
   "display_name": "Q1_try",
   "language": "python",
   "name": "python3"
  },
  "language_info": {
   "codemirror_mode": {
    "name": "ipython",
    "version": 3
   },
   "file_extension": ".py",
   "mimetype": "text/x-python",
   "name": "python",
   "nbconvert_exporter": "python",
   "pygments_lexer": "ipython3",
   "version": "3.12.11"
  }
 },
 "nbformat": 4,
 "nbformat_minor": 5
}
